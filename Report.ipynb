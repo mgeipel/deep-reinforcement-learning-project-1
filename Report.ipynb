{
 "cells": [
  {
   "cell_type": "markdown",
   "metadata": {},
   "source": [
    "## Learning Algorithm\n",
    "\n",
    "The learning algorithm used is double DQN.\n",
    "\n",
    "### Parameters\n",
    "\n",
    "| parameter | value | comment |\n",
    "| --- | --- | --- |\n",
    "| eps_start | 1.0 | epsilon for exploration |\n",
    "| eps_end | 0.01 | epsilon for exploration |\n",
    "| eps_decay | 0.995 | epsilon for exploration |\n",
    "| tau | .1 | soft update of target parameters |\n",
    "| gamma | 0.99 | discount factor |\n",
    "\n",
    "\n",
    "### Neural Network\n",
    "\n",
    "Three stacked dense layers with \n",
    "\n",
    "| parameter | value |\n",
    "| --- | --- |\n",
    "| network optimizer |  Adam |\n",
    "| learning rate |  5e-4  |\n",
    "| layer 1 |  dense 32 nodes |\n",
    "| activation |  leaky Relu |\n",
    "| layer 2 |  dense 16 nodes |\n",
    "| activation |  leaky Relu |\n",
    "| layer 3 |  dense 4 nodes for action values |\n",
    "\n",
    "Leaky Relu was used as during Q-learning the target changes over time and once a Relu weight is below zero it will not reactivate. \n",
    "\n",
    "## Plot of Rewards\n",
    "\n",
    "![learning curve](learning-curve.png)\n",
    "\n",
    "This plot was created with the `Navigation.ipynb`.\n",
    "\n",
    "## Ideas for Future Work\n",
    "\n",
    "Based on the forum conversation, prioritized experience replay does not give an edge in this environment. A possible extension to try would be duelling DQN. Also in combination with double DQN.\n"
   ]
  },
  {
   "cell_type": "code",
   "execution_count": null,
   "metadata": {},
   "outputs": [],
   "source": []
  }
 ],
 "metadata": {
  "kernelspec": {
   "display_name": "Python 3",
   "language": "python",
   "name": "python3"
  },
  "language_info": {
   "codemirror_mode": {
    "name": "ipython",
    "version": 3
   },
   "file_extension": ".py",
   "mimetype": "text/x-python",
   "name": "python",
   "nbconvert_exporter": "python",
   "pygments_lexer": "ipython3",
   "version": "3.6.8"
  }
 },
 "nbformat": 4,
 "nbformat_minor": 2
}
